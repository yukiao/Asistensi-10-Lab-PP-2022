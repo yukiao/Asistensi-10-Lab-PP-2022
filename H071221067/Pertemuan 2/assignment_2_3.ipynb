{
 "cells": [
  {
   "cell_type": "code",
   "execution_count": null,
   "metadata": {},
   "outputs": [],
   "source": [
    "a = int(input('Masukkan angka = '))\n",
    "b = int(input('Masukkan angka = '))\n",
    "c = int(input('Masukkan angka = '))\n",
    "\n",
    "max = a\n",
    "if max < b:\n",
    "    print('>', b, 'adalah nilai terbesar')\n",
    "elif max < c:\n",
    "    print('>', c, 'adalah nilai terbesar')\n",
    "else:\n",
    "    print('>', a, 'adalah nilai terbesar')"
   ]
  },
  {
   "cell_type": "code",
   "execution_count": null,
   "metadata": {},
   "outputs": [],
   "source": [
    "a = int(input('Masukkan angka = '))\n",
    "b = int(input('Masukkan angka = '))\n",
    "c = int(input('Masukkan angka = '))\n",
    "\n",
    "if a > b > c:\n",
    "    print('>', a, 'adalah nilai terbesar')\n",
    "elif b >= a > c:\n",
    "    print('>', b, 'adalah nilai terbesar')\n",
    "else:\n",
    "    print('>', c, 'adalah nilai terbesar')"
   ]
  }
 ],
 "metadata": {
  "kernelspec": {
   "display_name": "Python 3.10.6 64-bit",
   "language": "python",
   "name": "python3"
  },
  "language_info": {
   "name": "python",
   "version": "3.10.6"
  },
  "orig_nbformat": 4,
  "vscode": {
   "interpreter": {
    "hash": "532faa90b94fbc24ade10d7d86295ee35cb8f6a663aaab302032da3f216c4561"
   }
  }
 },
 "nbformat": 4,
 "nbformat_minor": 2
}
